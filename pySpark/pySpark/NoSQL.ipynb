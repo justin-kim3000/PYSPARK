{
 "cells": [
  {
   "cell_type": "code",
   "execution_count": 1,
   "id": "5455d23d",
   "metadata": {},
   "outputs": [],
   "source": [
    "from pyspark.sql import SparkSession"
   ]
  },
  {
   "cell_type": "code",
   "execution_count": 2,
   "id": "50954c71",
   "metadata": {},
   "outputs": [],
   "source": [
    "# 스키마를 정의 함\n"
   ]
  },
  {
   "cell_type": "code",
   "execution_count": 3,
   "id": "7198b228",
   "metadata": {},
   "outputs": [],
   "source": [
    "# 기본 데이터 생성\n",
    "data = [[1,\"Jules\",\"Damji\",\"https:titit.co.kr\",\"1/4/2016\",4425,[\"twitter\",\"LinkedIn\"]],\n",
    "       [2,\"Kim\",\"Ddo\",\"https:titit1.co.kr\",\"1/5/2015\",4115,[\"twitter\",\"kind\"]]]"
   ]
  },
  {
   "cell_type": "code",
   "execution_count": 4,
   "id": "b5c4c41e",
   "metadata": {},
   "outputs": [],
   "source": [
    "from pyspark.sql import Row"
   ]
  },
  {
   "cell_type": "code",
   "execution_count": 5,
   "id": "ef6f4cf1",
   "metadata": {},
   "outputs": [],
   "source": [
    "blog_row = Row(2,4,\"$4\",\"W3\")"
   ]
  },
  {
   "cell_type": "code",
   "execution_count": 6,
   "id": "f5d89ec1",
   "metadata": {},
   "outputs": [
    {
     "data": {
      "text/plain": [
       "'$4'"
      ]
     },
     "execution_count": 6,
     "metadata": {},
     "output_type": "execute_result"
    }
   ],
   "source": [
    "blog_row[2]"
   ]
  },
  {
   "cell_type": "code",
   "execution_count": 9,
   "id": "14ce0a89",
   "metadata": {},
   "outputs": [
    {
     "name": "stderr",
     "output_type": "stream",
     "text": [
      "\r",
      "[Stage 0:>                                                          (0 + 1) / 1]\r"
     ]
    },
    {
     "name": "stdout",
     "output_type": "stream",
     "text": [
      "+--------+-----+\n",
      "|    name|State|\n",
      "+--------+-----+\n",
      "|Matei za|   CA|\n",
      "| Kim hee|   CC|\n",
      "+--------+-----+\n",
      "\n"
     ]
    },
    {
     "name": "stderr",
     "output_type": "stream",
     "text": [
      "\r",
      "                                                                                \r"
     ]
    }
   ],
   "source": [
    "rows = [Row(\"Matei za\",\"CA\"),Row(\"Kim hee\",\"CC\")]\n",
    "authors_df = spark.createDataFrame(rows,[\"name\",\"State\"])\n",
    "authors_df.show()"
   ]
  },
  {
   "cell_type": "code",
   "execution_count": 10,
   "id": "8e80e7b9",
   "metadata": {},
   "outputs": [],
   "source": [
    "from pyspark.sql.types import *"
   ]
  },
  {
   "cell_type": "code",
   "execution_count": 11,
   "id": "16dfe833",
   "metadata": {},
   "outputs": [],
   "source": [
    "from pyspark.sql import SparkSession"
   ]
  },
  {
   "cell_type": "code",
   "execution_count": 8,
   "id": "8d636413",
   "metadata": {},
   "outputs": [
    {
     "name": "stderr",
     "output_type": "stream",
     "text": [
      "22/11/22 16:02:50 WARN Utils: Your hostname, Heewonui-MacBookPro.local resolves to a loopback address: 127.0.0.1; using 192.168.0.11 instead (on interface en0)\n",
      "22/11/22 16:02:50 WARN Utils: Set SPARK_LOCAL_IP if you need to bind to another address\n",
      "WARNING: An illegal reflective access operation has occurred\n",
      "WARNING: Illegal reflective access by org.apache.spark.unsafe.Platform (file:/Users/heewonkim/opt/anaconda3/lib/python3.7/site-packages/pyspark/jars/spark-unsafe_2.12-3.1.2.jar) to constructor java.nio.DirectByteBuffer(long,int)\n",
      "WARNING: Please consider reporting this to the maintainers of org.apache.spark.unsafe.Platform\n",
      "WARNING: Use --illegal-access=warn to enable warnings of further illegal reflective access operations\n",
      "WARNING: All illegal access operations will be denied in a future release\n",
      "22/11/22 16:02:50 WARN NativeCodeLoader: Unable to load native-hadoop library for your platform... using builtin-java classes where applicable\n",
      "Using Spark's default log4j profile: org/apache/spark/log4j-defaults.properties\n",
      "Setting default log level to \"WARN\".\n",
      "To adjust logging level use sc.setLogLevel(newLevel). For SparkR, use setLogLevel(newLevel).\n",
      "22/11/22 16:02:51 WARN Utils: Service 'SparkUI' could not bind on port 4040. Attempting port 4041.\n"
     ]
    }
   ],
   "source": [
    "spark = (SparkSession\n",
    "        .builder\n",
    "        .getOrCreate())"
   ]
  },
  {
   "cell_type": "code",
   "execution_count": 12,
   "id": "0c01c4dc",
   "metadata": {},
   "outputs": [],
   "source": [
    "file_schema = StructType()\n",
    "schema = \"'ID' INT, 'First' STRING, 'Last' STRING, 'Url' STRING, 'Published' STRING, 'Hits' INT,'Campaigns' ARRAY<STRING>\""
   ]
  },
  {
   "cell_type": "code",
   "execution_count": 13,
   "id": "e320ae55",
   "metadata": {},
   "outputs": [],
   "source": [
    "read_file = \"/Users/heewonkim/Desktop/python_data/business-price-indexes-september-2022-quarter-csv.csv\""
   ]
  },
  {
   "cell_type": "code",
   "execution_count": 14,
   "id": "4344492e",
   "metadata": {},
   "outputs": [],
   "source": [
    "file_df = spark.read.csv(read_file,header =True,encoding='utf-8')"
   ]
  },
  {
   "cell_type": "code",
   "execution_count": 16,
   "id": "e8e8e058",
   "metadata": {},
   "outputs": [
    {
     "data": {
      "text/plain": [
       "[Database(name='default', description='default database', locationUri='file:/Users/heewonkim/pySpark/spark-warehouse')]"
      ]
     },
     "execution_count": 16,
     "metadata": {},
     "output_type": "execute_result"
    }
   ],
   "source": [
    "spark.catalog.listDatabases()"
   ]
  },
  {
   "cell_type": "code",
   "execution_count": 15,
   "id": "e9f51878",
   "metadata": {},
   "outputs": [
    {
     "name": "stderr",
     "output_type": "stream",
     "text": [
      "\r",
      "[Stage 4:==============>                                            (1 + 3) / 4]\r"
     ]
    },
    {
     "name": "stdout",
     "output_type": "stream",
     "text": [
      "+-------+-----+\n",
      "| Period|count|\n",
      "+-------+-----+\n",
      "|2022.09|  778|\n",
      "|2022.06|  778|\n",
      "|2022.03|  778|\n",
      "|2021.12|  778|\n",
      "|2021.09|  778|\n",
      "|2021.06|  778|\n",
      "|2021.03|  778|\n",
      "|2020.12|  778|\n",
      "|2020.09|  778|\n",
      "|2020.06|  778|\n",
      "|2020.03|  778|\n",
      "|2019.12|  778|\n",
      "|2019.09|  778|\n",
      "|2019.06|  778|\n",
      "|2019.03|  778|\n",
      "|2018.12|  778|\n",
      "|2018.09|  778|\n",
      "|2018.06|  778|\n",
      "|2018.03|  778|\n",
      "|2017.12|  778|\n",
      "|2017.09|  778|\n",
      "|2017.06|  778|\n",
      "|2017.03|  778|\n",
      "|2016.12|  778|\n",
      "|2016.09|  778|\n",
      "|2016.06|  778|\n",
      "|2016.03|  778|\n",
      "|2015.12|  778|\n",
      "|2015.09|  778|\n",
      "|2015.06|  778|\n",
      "|2015.03|  778|\n",
      "|2014.12|  778|\n",
      "|2014.09|  778|\n",
      "|2014.06|  778|\n",
      "|2014.03|  778|\n",
      "|2013.12|  776|\n",
      "|2013.09|  700|\n",
      "|2013.06|  700|\n",
      "|2013.03|  700|\n",
      "|2012.12|  700|\n",
      "+-------+-----+\n",
      "only showing top 40 rows\n",
      "\n"
     ]
    },
    {
     "name": "stderr",
     "output_type": "stream",
     "text": [
      "\r",
      "[Stage 5:===================================================>  (190 + 10) / 200]\r",
      "\r",
      "                                                                                \r"
     ]
    }
   ],
   "source": [
    "(file_df\n",
    " .select(\"Period\")\n",
    " .groupBy(\"Period\")\n",
    " .count()\n",
    " .orderBy(\"Period\", ascending=False) # 역순(desc)\n",
    " .show(n=40))"
   ]
  },
  {
   "cell_type": "code",
   "execution_count": null,
   "id": "614d2a5e",
   "metadata": {},
   "outputs": [],
   "source": []
  },
  {
   "cell_type": "code",
   "execution_count": null,
   "id": "83109ca0",
   "metadata": {},
   "outputs": [],
   "source": [
    "row = Row(350,True,\"Learning Spark 2E\",None)"
   ]
  },
  {
   "cell_type": "code",
   "execution_count": null,
   "id": "d93ef608",
   "metadata": {},
   "outputs": [],
   "source": [
    "row[0]"
   ]
  },
  {
   "cell_type": "code",
   "execution_count": null,
   "id": "b16070d9",
   "metadata": {},
   "outputs": [],
   "source": []
  },
  {
   "cell_type": "code",
   "execution_count": null,
   "id": "98eb19be",
   "metadata": {},
   "outputs": [],
   "source": []
  },
  {
   "cell_type": "code",
   "execution_count": null,
   "id": "fd023c1f",
   "metadata": {},
   "outputs": [],
   "source": []
  },
  {
   "cell_type": "code",
   "execution_count": null,
   "id": "a25b1333",
   "metadata": {},
   "outputs": [],
   "source": []
  },
  {
   "cell_type": "code",
   "execution_count": null,
   "id": "21c97fed",
   "metadata": {},
   "outputs": [],
   "source": []
  },
  {
   "cell_type": "code",
   "execution_count": null,
   "id": "94890ea7",
   "metadata": {},
   "outputs": [],
   "source": []
  },
  {
   "cell_type": "code",
   "execution_count": null,
   "id": "d122c642",
   "metadata": {},
   "outputs": [],
   "source": []
  },
  {
   "cell_type": "code",
   "execution_count": null,
   "id": "fe97e188",
   "metadata": {},
   "outputs": [],
   "source": []
  },
  {
   "cell_type": "code",
   "execution_count": null,
   "id": "d4f07bc5",
   "metadata": {},
   "outputs": [],
   "source": []
  },
  {
   "cell_type": "code",
   "execution_count": null,
   "id": "76bd0b22",
   "metadata": {},
   "outputs": [],
   "source": []
  }
 ],
 "metadata": {
  "kernelspec": {
   "display_name": "Python 3 (ipykernel)",
   "language": "python",
   "name": "python3"
  },
  "language_info": {
   "codemirror_mode": {
    "name": "ipython",
    "version": 3
   },
   "file_extension": ".py",
   "mimetype": "text/x-python",
   "name": "python",
   "nbconvert_exporter": "python",
   "pygments_lexer": "ipython3",
   "version": "3.7.13"
  }
 },
 "nbformat": 4,
 "nbformat_minor": 5
}
