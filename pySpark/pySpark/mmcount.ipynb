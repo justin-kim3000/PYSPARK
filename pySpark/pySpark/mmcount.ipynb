{
 "cells": [
  {
   "cell_type": "code",
   "execution_count": 1,
   "id": "161f5522",
   "metadata": {},
   "outputs": [],
   "source": [
    "import sys"
   ]
  },
  {
   "cell_type": "code",
   "execution_count": 2,
   "id": "2f6a0818",
   "metadata": {},
   "outputs": [],
   "source": [
    "from pyspark.sql import SparkSession"
   ]
  },
  {
   "cell_type": "code",
   "execution_count": null,
   "id": "6af2520b",
   "metadata": {},
   "outputs": [],
   "source": []
  },
  {
   "cell_type": "code",
   "execution_count": 11,
   "id": "cdba019a",
   "metadata": {
    "scrolled": false
   },
   "outputs": [
    {
     "name": "stderr",
     "output_type": "stream",
     "text": [
      "Usage: mnmcount <file>\n"
     ]
    },
    {
     "ename": "SystemExit",
     "evalue": "-1",
     "output_type": "error",
     "traceback": [
      "An exception has occurred, use %tb to see the full traceback.\n",
      "\u001b[0;31mSystemExit\u001b[0m\u001b[0;31m:\u001b[0m -1\n"
     ]
    }
   ],
   "source": [
    "if __name__ == \"__main__\":\n",
    "    if len(sys.argv) !=2:\n",
    "        print(\"Usage: mnmcount <file>\", file=sys.stderr)\n",
    "        sys.exit(-1)\n",
    "        "
   ]
  },
  {
   "cell_type": "code",
   "execution_count": 13,
   "id": "58e20014",
   "metadata": {},
   "outputs": [
    {
     "name": "stderr",
     "output_type": "stream",
     "text": [
      "Usage: mnmcount <file>\n"
     ]
    },
    {
     "ename": "SystemExit",
     "evalue": "-1",
     "output_type": "error",
     "traceback": [
      "An exception has occurred, use %tb to see the full traceback.\n",
      "\u001b[0;31mSystemExit\u001b[0m\u001b[0;31m:\u001b[0m -1\n"
     ]
    }
   ],
   "source": [
    "if __name__ == \"__main__\":\n",
    "    if len(sys.argv) !=2:\n",
    "        print(\"Usage: mnmcount <file>\", file=sys.stderr)\n",
    "        sys.exit(-1)\n",
    "        \n",
    "    spark = (SparkSession.builder.appName(\"pythonMnMCount\").getOrCreate())\n",
    "    mnm_file = sys.argv[1]\n",
    "    mnm_df = (spark.read.format(\"csv\").option(\"header\",\"true\").option(\"inferSchema\",\"true\").load(mnm_file))\n",
    "    count_mnm_df = (mnm_df.select(\"State\",\"Color\",\"Count\").groupBy(\"State\",\"Color\").sum(\"Count\")\n",
    "                    .orderBy(\"sum(Count)\",ascending=False))\n",
    "    \n",
    "    count_mnm_df.show(n=60, truncate=False)\n",
    "    print(\"Total Rows = %d\" % (count_mnm_df.count()))\n",
    "    ca_count_mnm_df = (mnm_df\n",
    "                      .select(\"State\",\"Color\",\"Count\")\n",
    "                      .where(mnm_df.State == \"CA\")\n",
    "                      .groupBy(\"State\",\"Color\")\n",
    "                      .sum(\"Count\")\n",
    "                      .orderBy(\"sum(Count)\", ascending=False))\n",
    "    ca_count_mnm_df.show(n=10, truncate=False)\n",
    "    spark.stop()"
   ]
  },
  {
   "cell_type": "code",
   "execution_count": null,
   "id": "694af49b",
   "metadata": {},
   "outputs": [],
   "source": []
  },
  {
   "cell_type": "code",
   "execution_count": null,
   "id": "9e3ac0ce",
   "metadata": {},
   "outputs": [],
   "source": []
  },
  {
   "cell_type": "code",
   "execution_count": null,
   "id": "9d562875",
   "metadata": {},
   "outputs": [],
   "source": []
  },
  {
   "cell_type": "code",
   "execution_count": null,
   "id": "f5f73863",
   "metadata": {},
   "outputs": [],
   "source": []
  },
  {
   "cell_type": "code",
   "execution_count": null,
   "id": "46c642b9",
   "metadata": {},
   "outputs": [],
   "source": []
  }
 ],
 "metadata": {
  "kernelspec": {
   "display_name": "Python 3 (ipykernel)",
   "language": "python",
   "name": "python3"
  },
  "language_info": {
   "codemirror_mode": {
    "name": "ipython",
    "version": 3
   },
   "file_extension": ".py",
   "mimetype": "text/x-python",
   "name": "python",
   "nbconvert_exporter": "python",
   "pygments_lexer": "ipython3",
   "version": "3.7.13"
  }
 },
 "nbformat": 4,
 "nbformat_minor": 5
}
