{
 "cells": [
  {
   "cell_type": "code",
   "execution_count": 1,
   "id": "30595c45",
   "metadata": {},
   "outputs": [],
   "source": [
    "from pyspark.sql import SparkSession"
   ]
  },
  {
   "cell_type": "code",
   "execution_count": 2,
   "id": "4ed7f377",
   "metadata": {},
   "outputs": [],
   "source": [
    "from pyspark.sql.functions import avg"
   ]
  },
  {
   "cell_type": "code",
   "execution_count": 3,
   "id": "f6dc2442",
   "metadata": {},
   "outputs": [
    {
     "name": "stderr",
     "output_type": "stream",
     "text": [
      "WARNING: An illegal reflective access operation has occurred\n",
      "WARNING: Illegal reflective access by org.apache.spark.unsafe.Platform (file:/Users/heewonkim/opt/anaconda3/lib/python3.7/site-packages/pyspark/jars/spark-unsafe_2.12-3.1.2.jar) to constructor java.nio.DirectByteBuffer(long,int)\n",
      "WARNING: Please consider reporting this to the maintainers of org.apache.spark.unsafe.Platform\n",
      "WARNING: Use --illegal-access=warn to enable warnings of further illegal reflective access operations\n",
      "WARNING: All illegal access operations will be denied in a future release\n",
      "22/11/19 13:52:53 WARN NativeCodeLoader: Unable to load native-hadoop library for your platform... using builtin-java classes where applicable\n",
      "Using Spark's default log4j profile: org/apache/spark/log4j-defaults.properties\n",
      "Setting default log level to \"WARN\".\n",
      "To adjust logging level use sc.setLogLevel(newLevel). For SparkR, use setLogLevel(newLevel).\n"
     ]
    }
   ],
   "source": [
    "spark = (SparkSession\n",
    "        .builder\n",
    "        .appName(\"AuthorsAges\")\n",
    "        .getOrCreate())"
   ]
  },
  {
   "cell_type": "code",
   "execution_count": 7,
   "id": "49084876",
   "metadata": {},
   "outputs": [],
   "source": [
    "data_df = spark.createDataFrame([(\"Brooke\",20),(\"Brooke\",20),(\"Brooke\",20),(\"Brooke\",20),(\"Brooke\",20),(\"Brooke\",20),(\"Brooke\",20),(\"Brooke\",20),(\"Brooke\",20),(\"Brooke\",20),(\"Brooke\",20),(\"Brooke\",20),(\"Brooke\",20),(\"Brooke\",20),(\"Brooke\",20),(\"Brooke\",20),(\"Brooke\",20),(\"Brooke\",20),(\"Brooke\",20),(\"Brooke\",20),(\"Brooke\",20),(\"Brooke\",20),(\"Brooke\",20),(\"Brooke\",20),(\"Brooke\",20),(\"Brooke\",20),(\"Brooke\",20),(\"Brooke\",20),(\"Brooke\",20),(\"Brooke\",20),(\"Brooke\",20),(\"Brooke\",20),(\"Brooke\",20),(\"Brooke\",20),(\"Brooke\",20),(\"Brooke\",20),(\"Brooke\",20),(\"Brooke\",20),(\"Denny\",31),(\"Jules\",30),(\"TD\",35),(\"Brooke\",25)],[\"name\",\"age\"])"
   ]
  },
  {
   "cell_type": "code",
   "execution_count": 8,
   "id": "c47edbfa",
   "metadata": {},
   "outputs": [],
   "source": [
    "avg_df =data_df.groupBy(\"name\").agg(avg(\"age\"))"
   ]
  },
  {
   "cell_type": "code",
   "execution_count": 9,
   "id": "22204b33",
   "metadata": {},
   "outputs": [
    {
     "name": "stdout",
     "output_type": "stream",
     "text": [
      "+------+------------------+\n",
      "|  name|          avg(age)|\n",
      "+------+------------------+\n",
      "|Brooke|20.128205128205128|\n",
      "| Jules|              30.0|\n",
      "|    TD|              35.0|\n",
      "| Denny|              31.0|\n",
      "+------+------------------+\n",
      "\n"
     ]
    }
   ],
   "source": [
    "avg_df.show()"
   ]
  },
  {
   "cell_type": "code",
   "execution_count": null,
   "id": "a05b009c",
   "metadata": {},
   "outputs": [],
   "source": []
  },
  {
   "cell_type": "code",
   "execution_count": null,
   "id": "061fd684",
   "metadata": {},
   "outputs": [],
   "source": []
  }
 ],
 "metadata": {
  "kernelspec": {
   "display_name": "Python 3 (ipykernel)",
   "language": "python",
   "name": "python3"
  },
  "language_info": {
   "codemirror_mode": {
    "name": "ipython",
    "version": 3
   },
   "file_extension": ".py",
   "mimetype": "text/x-python",
   "name": "python",
   "nbconvert_exporter": "python",
   "pygments_lexer": "ipython3",
   "version": "3.7.13"
  }
 },
 "nbformat": 4,
 "nbformat_minor": 5
}
